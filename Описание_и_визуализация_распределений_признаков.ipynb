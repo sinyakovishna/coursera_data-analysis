{
  "nbformat": 4,
  "nbformat_minor": 0,
  "metadata": {
    "colab": {
      "name": "Описание и визуализация распределений признаков.ipynb",
      "provenance": [],
      "collapsed_sections": []
    },
    "kernelspec": {
      "display_name": "Python 3",
      "name": "python3"
    }
  },
  "cells": [
    {
      "cell_type": "markdown",
      "metadata": {
        "id": "qiotLGrO6UAF"
      },
      "source": [
        "# Задание\n",
        "1. Рассчитать основные статистики (меры центра и меры разброса) по распределениям всех переменных.\n",
        "2. Выбрать количественный признак и охарактеризовать его распределение при помощи соответствующих описательных статистик и графиков:\n",
        "\n",
        "  2.1. Какова форма распределения признака?\n",
        "\n",
        "  2.2. Можно ли говорить о том, что распределение признака согласуется с каким-либо теоретическим законом распределения?\n",
        "\n",
        "  2.3. Есть ли в данных «аномалии» / «выбросы»?\n",
        "\n",
        "  2.4. Какие меры центра и вариативности подходят для описания распределений лучше всего? Почему?\n",
        "\n",
        "3. Сравнить геозависимые и геонезависимые сферы (экспертная разметка, переменная IsGeo) по выбранному для анализа признаку. Есть ли отличия? В чем они состоят?\n"
      ]
    },
    {
      "cell_type": "markdown",
      "metadata": {
        "id": "xrKq6Aid9WXh"
      },
      "source": [
        "**Первый этап. Получение данных**\n",
        "\n",
        "Подключаем Google.Диск к Google.Colab"
      ]
    },
    {
      "cell_type": "code",
      "metadata": {
        "id": "vEyxBF3n1XCa",
        "colab": {
          "base_uri": "https://localhost:8080/"
        },
        "outputId": "f4fdc5ff-a2dd-4eb8-b966-e311f7f49100"
      },
      "source": [
        "# Load the Drive helper and mount\n",
        "from google.colab import drive\n",
        "\n",
        "# This will prompt for authorization.\n",
        "drive.mount('/content/drive')"
      ],
      "execution_count": null,
      "outputs": [
        {
          "output_type": "stream",
          "text": [
            "Mounted at /content/drive\n"
          ],
          "name": "stdout"
        }
      ]
    },
    {
      "cell_type": "code",
      "metadata": {
        "id": "7qrosxt9-lfu"
      },
      "source": [
        "!ls \"/content/drive/My Drive\""
      ],
      "execution_count": null,
      "outputs": []
    },
    {
      "cell_type": "markdown",
      "metadata": {
        "id": "bK-raQBw-IH1"
      },
      "source": [
        "Импортируем необходимые библиотеки"
      ]
    },
    {
      "cell_type": "code",
      "metadata": {
        "id": "IGsQM41b_LO-"
      },
      "source": [
        "import numpy as np\n",
        "import pandas as pd\n",
        "import matplotlib.pyplot as plt\n",
        "import seaborn as sns"
      ],
      "execution_count": null,
      "outputs": []
    },
    {
      "cell_type": "markdown",
      "metadata": {
        "id": "cBEEpxeO_RQq"
      },
      "source": [
        "Прочитаем файл с данными и сохраним его в переменную data"
      ]
    },
    {
      "cell_type": "code",
      "metadata": {
        "id": "YEwy0CA9-5ig"
      },
      "source": [
        "data = pd.read_csv('/content/drive/My Drive/Data_Projects.csv', sep=\";\")"
      ],
      "execution_count": null,
      "outputs": []
    },
    {
      "cell_type": "markdown",
      "metadata": {
        "id": "zIbsSF0O_a03"
      },
      "source": [
        "Ознакомимся с полученными данными"
      ]
    },
    {
      "cell_type": "code",
      "metadata": {
        "id": "JQzb2Tei_hxd",
        "colab": {
          "base_uri": "https://localhost:8080/",
          "height": 197
        },
        "outputId": "03aa69d5-7292-46b0-91ea-9b759284999a"
      },
      "source": [
        "data.head()"
      ],
      "execution_count": null,
      "outputs": [
        {
          "output_type": "execute_result",
          "data": {
            "text/html": [
              "<div>\n",
              "<style scoped>\n",
              "    .dataframe tbody tr th:only-of-type {\n",
              "        vertical-align: middle;\n",
              "    }\n",
              "\n",
              "    .dataframe tbody tr th {\n",
              "        vertical-align: top;\n",
              "    }\n",
              "\n",
              "    .dataframe thead th {\n",
              "        text-align: right;\n",
              "    }\n",
              "</style>\n",
              "<table border=\"1\" class=\"dataframe\">\n",
              "  <thead>\n",
              "    <tr style=\"text-align: right;\">\n",
              "      <th></th>\n",
              "      <th>AddressCount</th>\n",
              "      <th>CallsCount</th>\n",
              "      <th>ClicksCount</th>\n",
              "      <th>FirmsCount</th>\n",
              "      <th>GeoPart</th>\n",
              "      <th>MobilePart</th>\n",
              "      <th>UsersCount</th>\n",
              "      <th>Distance</th>\n",
              "      <th>IsGeo</th>\n",
              "    </tr>\n",
              "  </thead>\n",
              "  <tbody>\n",
              "    <tr>\n",
              "      <th>0</th>\n",
              "      <td>156</td>\n",
              "      <td>20</td>\n",
              "      <td>1903</td>\n",
              "      <td>176</td>\n",
              "      <td>0,416104363472785</td>\n",
              "      <td>0,535762483130904</td>\n",
              "      <td>1125</td>\n",
              "      <td>749,966084023684</td>\n",
              "      <td>1</td>\n",
              "    </tr>\n",
              "    <tr>\n",
              "      <th>1</th>\n",
              "      <td>17</td>\n",
              "      <td>37</td>\n",
              "      <td>258</td>\n",
              "      <td>20</td>\n",
              "      <td>0,211678832116788</td>\n",
              "      <td>0,430656934306569</td>\n",
              "      <td>157</td>\n",
              "      <td>2289,03242434015</td>\n",
              "      <td>0</td>\n",
              "    </tr>\n",
              "    <tr>\n",
              "      <th>2</th>\n",
              "      <td>78</td>\n",
              "      <td>56</td>\n",
              "      <td>1956</td>\n",
              "      <td>185</td>\n",
              "      <td>0,349475383373688</td>\n",
              "      <td>0,476594027441485</td>\n",
              "      <td>1195</td>\n",
              "      <td>1423,37651183958</td>\n",
              "      <td>1</td>\n",
              "    </tr>\n",
              "    <tr>\n",
              "      <th>3</th>\n",
              "      <td>14</td>\n",
              "      <td>70</td>\n",
              "      <td>378</td>\n",
              "      <td>19</td>\n",
              "      <td>0,318718381112985</td>\n",
              "      <td>0,463743676222597</td>\n",
              "      <td>206</td>\n",
              "      <td>3396,56608856838</td>\n",
              "      <td>0</td>\n",
              "    </tr>\n",
              "    <tr>\n",
              "      <th>4</th>\n",
              "      <td>111</td>\n",
              "      <td>90</td>\n",
              "      <td>4089</td>\n",
              "      <td>90</td>\n",
              "      <td>0,55617545209696</td>\n",
              "      <td>0,490573297422085</td>\n",
              "      <td>2934</td>\n",
              "      <td>1576,51415402623</td>\n",
              "      <td>1</td>\n",
              "    </tr>\n",
              "  </tbody>\n",
              "</table>\n",
              "</div>"
            ],
            "text/plain": [
              "   AddressCount  CallsCount  ClicksCount  ...  UsersCount          Distance IsGeo\n",
              "0           156          20         1903  ...        1125  749,966084023684     1\n",
              "1            17          37          258  ...         157  2289,03242434015     0\n",
              "2            78          56         1956  ...        1195  1423,37651183958     1\n",
              "3            14          70          378  ...         206  3396,56608856838     0\n",
              "4           111          90         4089  ...        2934  1576,51415402623     1\n",
              "\n",
              "[5 rows x 9 columns]"
            ]
          },
          "metadata": {
            "tags": []
          },
          "execution_count": 6
        }
      ]
    },
    {
      "cell_type": "markdown",
      "metadata": {
        "id": "xQ03SDBP5eXs"
      },
      "source": [
        "Данные представляют собой описательную статистику, собранную в 2ГИС по некоторому набору рубрик/сфер (бары, аптеки, продуктовые магазины) в городе Новосибирск.\n",
        "\n",
        "В таблице 9 столбцов, и они содержат следующую информацию:\n",
        "\n",
        "*   AddressCount - количество кликов в адреса и/или входы. Клик во вход – это клик пользователя в кнопку «Вход».\n",
        "*   CallsCount - количество звонков в организации. Звонки – это клики \n",
        "пользователя в кнопку «Телефон» в карточке организации.\n",
        "*   ClicksCount - клики пользователя в организацию в результатах поисковой выдачи, после чего открывается карточка организации.\n",
        "*   FirmsCount - количество организаций в той или иной сфере.\n",
        "*   GeoPart - доля трафика с карты.\n",
        "*   MobilePart - доля трафика с мобильных продуктов.\n",
        "*   UsersCount - количество уникальных пользователей, которые совершали какие–то действия в данной сфере – открывали карточки организаций, тыкали во вход/адрес звонок и т.д.\n",
        "*   Distance -  медианная дистанция от пользователя до организации при совершении клика.\n",
        "*   IsGeo - признак геозависимой сферы:\n",
        "1 – геозависимая сфера;\n",
        "0 – геонезависимая сфера (по экспертной разметке).\n",
        "\n",
        "\n",
        "\n",
        "\n",
        "\n",
        "\n",
        "\n",
        "\n"
      ]
    },
    {
      "cell_type": "code",
      "metadata": {
        "id": "-Ein-Sx0BZxK",
        "colab": {
          "base_uri": "https://localhost:8080/"
        },
        "outputId": "11929b06-872e-4b1c-d8ca-9e2c33bbe397"
      },
      "source": [
        "data.info()"
      ],
      "execution_count": null,
      "outputs": [
        {
          "output_type": "stream",
          "text": [
            "<class 'pandas.core.frame.DataFrame'>\n",
            "RangeIndex: 79 entries, 0 to 78\n",
            "Data columns (total 9 columns):\n",
            " #   Column        Non-Null Count  Dtype \n",
            "---  ------        --------------  ----- \n",
            " 0   AddressCount  79 non-null     int64 \n",
            " 1   CallsCount    79 non-null     int64 \n",
            " 2   ClicksCount   79 non-null     int64 \n",
            " 3   FirmsCount    79 non-null     int64 \n",
            " 4   GeoPart       79 non-null     object\n",
            " 5   MobilePart    79 non-null     object\n",
            " 6   UsersCount    79 non-null     int64 \n",
            " 7   Distance      79 non-null     object\n",
            " 8   IsGeo         79 non-null     int64 \n",
            "dtypes: int64(6), object(3)\n",
            "memory usage: 5.7+ KB\n"
          ],
          "name": "stdout"
        }
      ]
    },
    {
      "cell_type": "markdown",
      "metadata": {
        "id": "IeWmUKtqEdMH"
      },
      "source": [
        "**Выводы**\n",
        "\n",
        "Наши данные содержат 9 столбцов и 79 строк, из которых 6 имеют числовой тип данных и 3 - строковый.\n",
        "Так как количество значений для каждого столбца совпадает с длиной таблицы, пропущенных значений у нас нет.\n",
        "\n",
        "Также обращаю внимание, что столбец IsGeo содержит номинальные данные, поэтому для него можно рассчитать только один признак вариативности - моду.\n"
      ]
    },
    {
      "cell_type": "markdown",
      "metadata": {
        "id": "CBhngzq8WOdP"
      },
      "source": [
        "**Второй этап. Предобработка данных**"
      ]
    },
    {
      "cell_type": "markdown",
      "metadata": {
        "id": "xevI8KSTYCzT"
      },
      "source": [
        "Так как нам предстоит работать с числовыми значениями, приведем столбцы со значениями типа object к числовому типу данных и заменим неподходящие символы"
      ]
    },
    {
      "cell_type": "code",
      "metadata": {
        "id": "_fbA6gWBx-0-"
      },
      "source": [
        "data['GeoPart'] = data['GeoPart'].str.replace(',', '.')\n",
        "data['MobilePart'] = data['MobilePart'].str.replace(',', '.')\n",
        "data['Distance'] = data['Distance'].str.replace(',', '.')"
      ],
      "execution_count": null,
      "outputs": []
    },
    {
      "cell_type": "code",
      "metadata": {
        "id": "Mq3ditphlUnN"
      },
      "source": [
        "data['GeoPart'] = pd.to_numeric(data['GeoPart'])\n",
        "data['MobilePart'] = pd.to_numeric(data['MobilePart'])\n",
        "data['Distance'] = pd.to_numeric(data['Distance'])"
      ],
      "execution_count": null,
      "outputs": []
    },
    {
      "cell_type": "code",
      "metadata": {
        "id": "jOydNPNzBy4o",
        "colab": {
          "base_uri": "https://localhost:8080/",
          "height": 197
        },
        "outputId": "532306dc-95dc-4262-834f-f8c94be5675a"
      },
      "source": [
        "data.head()"
      ],
      "execution_count": null,
      "outputs": [
        {
          "output_type": "execute_result",
          "data": {
            "text/html": [
              "<div>\n",
              "<style scoped>\n",
              "    .dataframe tbody tr th:only-of-type {\n",
              "        vertical-align: middle;\n",
              "    }\n",
              "\n",
              "    .dataframe tbody tr th {\n",
              "        vertical-align: top;\n",
              "    }\n",
              "\n",
              "    .dataframe thead th {\n",
              "        text-align: right;\n",
              "    }\n",
              "</style>\n",
              "<table border=\"1\" class=\"dataframe\">\n",
              "  <thead>\n",
              "    <tr style=\"text-align: right;\">\n",
              "      <th></th>\n",
              "      <th>AddressCount</th>\n",
              "      <th>CallsCount</th>\n",
              "      <th>ClicksCount</th>\n",
              "      <th>FirmsCount</th>\n",
              "      <th>GeoPart</th>\n",
              "      <th>MobilePart</th>\n",
              "      <th>UsersCount</th>\n",
              "      <th>Distance</th>\n",
              "      <th>IsGeo</th>\n",
              "    </tr>\n",
              "  </thead>\n",
              "  <tbody>\n",
              "    <tr>\n",
              "      <th>0</th>\n",
              "      <td>156</td>\n",
              "      <td>20</td>\n",
              "      <td>1903</td>\n",
              "      <td>176</td>\n",
              "      <td>0.416104</td>\n",
              "      <td>0.535762</td>\n",
              "      <td>1125</td>\n",
              "      <td>749.966084</td>\n",
              "      <td>1</td>\n",
              "    </tr>\n",
              "    <tr>\n",
              "      <th>1</th>\n",
              "      <td>17</td>\n",
              "      <td>37</td>\n",
              "      <td>258</td>\n",
              "      <td>20</td>\n",
              "      <td>0.211679</td>\n",
              "      <td>0.430657</td>\n",
              "      <td>157</td>\n",
              "      <td>2289.032424</td>\n",
              "      <td>0</td>\n",
              "    </tr>\n",
              "    <tr>\n",
              "      <th>2</th>\n",
              "      <td>78</td>\n",
              "      <td>56</td>\n",
              "      <td>1956</td>\n",
              "      <td>185</td>\n",
              "      <td>0.349475</td>\n",
              "      <td>0.476594</td>\n",
              "      <td>1195</td>\n",
              "      <td>1423.376512</td>\n",
              "      <td>1</td>\n",
              "    </tr>\n",
              "    <tr>\n",
              "      <th>3</th>\n",
              "      <td>14</td>\n",
              "      <td>70</td>\n",
              "      <td>378</td>\n",
              "      <td>19</td>\n",
              "      <td>0.318718</td>\n",
              "      <td>0.463744</td>\n",
              "      <td>206</td>\n",
              "      <td>3396.566089</td>\n",
              "      <td>0</td>\n",
              "    </tr>\n",
              "    <tr>\n",
              "      <th>4</th>\n",
              "      <td>111</td>\n",
              "      <td>90</td>\n",
              "      <td>4089</td>\n",
              "      <td>90</td>\n",
              "      <td>0.556175</td>\n",
              "      <td>0.490573</td>\n",
              "      <td>2934</td>\n",
              "      <td>1576.514154</td>\n",
              "      <td>1</td>\n",
              "    </tr>\n",
              "  </tbody>\n",
              "</table>\n",
              "</div>"
            ],
            "text/plain": [
              "   AddressCount  CallsCount  ClicksCount  ...  UsersCount     Distance  IsGeo\n",
              "0           156          20         1903  ...        1125   749.966084      1\n",
              "1            17          37          258  ...         157  2289.032424      0\n",
              "2            78          56         1956  ...        1195  1423.376512      1\n",
              "3            14          70          378  ...         206  3396.566089      0\n",
              "4           111          90         4089  ...        2934  1576.514154      1\n",
              "\n",
              "[5 rows x 9 columns]"
            ]
          },
          "metadata": {
            "tags": []
          },
          "execution_count": 10
        }
      ]
    },
    {
      "cell_type": "code",
      "metadata": {
        "id": "cQLK6NI03gmN",
        "colab": {
          "base_uri": "https://localhost:8080/"
        },
        "outputId": "88525594-7fa9-4301-fe8b-c687275c70df"
      },
      "source": [
        "data.dtypes"
      ],
      "execution_count": null,
      "outputs": [
        {
          "output_type": "execute_result",
          "data": {
            "text/plain": [
              "AddressCount      int64\n",
              "CallsCount        int64\n",
              "ClicksCount       int64\n",
              "FirmsCount        int64\n",
              "GeoPart         float64\n",
              "MobilePart      float64\n",
              "UsersCount        int64\n",
              "Distance        float64\n",
              "IsGeo             int64\n",
              "dtype: object"
            ]
          },
          "metadata": {
            "tags": []
          },
          "execution_count": 11
        }
      ]
    },
    {
      "cell_type": "markdown",
      "metadata": {
        "id": "uGB9kHApb3dL"
      },
      "source": [
        "**Выводы**\n",
        "\n",
        "Мы преобразовали типы данных в числовые и избавились от неверных символов.\n"
      ]
    },
    {
      "cell_type": "markdown",
      "metadata": {
        "id": "11GVrTXsASHI"
      },
      "source": [
        "**Третий этап.**\n",
        "\n",
        "**1. Рассчитываем основные характеристики (меры центра и меры разброса) по распределениям всех переменных**"
      ]
    },
    {
      "cell_type": "markdown",
      "metadata": {
        "id": "ZGX2v6goB8c_"
      },
      "source": [
        "Создадим таблицу, в которую будем записывать меры центра и изменчивости."
      ]
    },
    {
      "cell_type": "code",
      "metadata": {
        "id": "QwgPp7WXES4G"
      },
      "source": [
        "center_and_variability_measures = pd.DataFrame()"
      ],
      "execution_count": null,
      "outputs": []
    },
    {
      "cell_type": "code",
      "metadata": {
        "id": "s4Za2ZV2l1M0",
        "colab": {
          "base_uri": "https://localhost:8080/"
        },
        "outputId": "08479a08-0f3c-491d-e000-774ab2826c5f"
      },
      "source": [
        "data_columns = list(data.columns)\n",
        "data_columns"
      ],
      "execution_count": null,
      "outputs": [
        {
          "output_type": "execute_result",
          "data": {
            "text/plain": [
              "['AddressCount',\n",
              " 'CallsCount',\n",
              " 'ClicksCount',\n",
              " 'FirmsCount',\n",
              " 'GeoPart',\n",
              " 'MobilePart',\n",
              " 'UsersCount',\n",
              " 'Distance',\n",
              " 'IsGeo']"
            ]
          },
          "metadata": {
            "tags": []
          },
          "execution_count": 13
        }
      ]
    },
    {
      "cell_type": "markdown",
      "metadata": {
        "id": "7cvdOo2ZyjZc"
      },
      "source": [
        "Добавим в таблицу значения моды и медианы."
      ]
    },
    {
      "cell_type": "code",
      "metadata": {
        "id": "gC2jjm8NnBKg"
      },
      "source": [
        "columns = list(data)\n",
        "for i in columns:\n",
        "  mean = round(data[i].mean(), 2)\n",
        "  median = round(data[i].median(), 2)\n",
        "  new = pd.DataFrame({'mean': [mean], 'median': [median]})\n",
        "  center_and_variability_measures = center_and_variability_measures.append(new)"
      ],
      "execution_count": null,
      "outputs": []
    },
    {
      "cell_type": "markdown",
      "metadata": {
        "id": "4_CWCKoOznI-"
      },
      "source": [
        "Как мы знаем, значений моды может быть несколько для каждого столбца.\n",
        "Проверим это."
      ]
    },
    {
      "cell_type": "code",
      "metadata": {
        "id": "zBZzO1jQPeam",
        "colab": {
          "base_uri": "https://localhost:8080/"
        },
        "outputId": "295978c2-d307-4834-c347-73dc1b4c22af"
      },
      "source": [
        "mode_list = []\n",
        "for i in columns:\n",
        "  mode = round(data[i].mode(), 2)\n",
        "  mode_list.append(mode)\n",
        "mode_list"
      ],
      "execution_count": null,
      "outputs": [
        {
          "output_type": "execute_result",
          "data": {
            "text/plain": [
              "[0    175\n",
              " 1    439\n",
              " dtype: int64, 0        20\n",
              " 1        37\n",
              " 2        56\n",
              " 3        70\n",
              " 4        90\n",
              "       ...  \n",
              " 74    12436\n",
              " 75    12805\n",
              " 76    20609\n",
              " 77    47912\n",
              " 78    48497\n",
              " Length: 79, dtype: int64, 0        258\n",
              " 1        373\n",
              " 2        378\n",
              " 3        563\n",
              " 4        976\n",
              "        ...  \n",
              " 74     75789\n",
              " 75     94918\n",
              " 76    101558\n",
              " 77    149920\n",
              " 78    167155\n",
              " Length: 79, dtype: int64, 0     19\n",
              " 1    185\n",
              " 2    197\n",
              " dtype: int64, 0     0.09\n",
              " 1     0.14\n",
              " 2     0.15\n",
              " 3     0.19\n",
              " 4     0.19\n",
              "       ... \n",
              " 74    0.53\n",
              " 75    0.53\n",
              " 76    0.54\n",
              " 77    0.54\n",
              " 78    0.56\n",
              " Length: 79, dtype: float64, 0     0.09\n",
              " 1     0.13\n",
              " 2     0.14\n",
              " 3     0.18\n",
              " 4     0.20\n",
              "       ... \n",
              " 74    0.67\n",
              " 75    0.67\n",
              " 76    0.68\n",
              " 77    0.71\n",
              " 78    0.74\n",
              " Length: 79, dtype: float64, 0       157\n",
              " 1       180\n",
              " 2       206\n",
              " 3       265\n",
              " 4       410\n",
              "       ...  \n",
              " 74    40147\n",
              " 75    40614\n",
              " 76    54098\n",
              " 77    58351\n",
              " 78    61127\n",
              " Length: 79, dtype: int64, 0      714.79\n",
              " 1      749.97\n",
              " 2      762.64\n",
              " 3      813.44\n",
              " 4      854.17\n",
              "        ...   \n",
              " 74    5509.38\n",
              " 75    5528.07\n",
              " 76    5967.71\n",
              " 77    6272.75\n",
              " 78    6292.21\n",
              " Length: 79, dtype: float64, 0    0\n",
              " dtype: int64]"
            ]
          },
          "metadata": {
            "tags": []
          },
          "execution_count": 15
        }
      ]
    },
    {
      "cell_type": "markdown",
      "metadata": {
        "id": "K_X4YQHy-KUB"
      },
      "source": [
        "Как видим, большинсвто значений в стобцах имеют уникальные значения для каждой ячейки, поэтому моду для них посчитать нельзя.\n",
        "Проверим столбцы с минимальными значениями."
      ]
    },
    {
      "cell_type": "code",
      "metadata": {
        "colab": {
          "base_uri": "https://localhost:8080/"
        },
        "id": "TRTyNu8P08ja",
        "outputId": "8fbd49bf-4f82-4b50-de57-f3c1b4ba15a7"
      },
      "source": [
        "data.AddressCount[data.AddressCount == 439].count()"
      ],
      "execution_count": null,
      "outputs": [
        {
          "output_type": "execute_result",
          "data": {
            "text/plain": [
              "2"
            ]
          },
          "metadata": {
            "tags": []
          },
          "execution_count": 16
        }
      ]
    },
    {
      "cell_type": "code",
      "metadata": {
        "colab": {
          "base_uri": "https://localhost:8080/"
        },
        "id": "uXIgqPSM1xip",
        "outputId": "d5ebe64e-4f0b-4a92-d7d6-feb8bc5282ee"
      },
      "source": [
        "data.AddressCount[data.AddressCount == 175].count()"
      ],
      "execution_count": null,
      "outputs": [
        {
          "output_type": "execute_result",
          "data": {
            "text/plain": [
              "2"
            ]
          },
          "metadata": {
            "tags": []
          },
          "execution_count": 17
        }
      ]
    },
    {
      "cell_type": "code",
      "metadata": {
        "colab": {
          "base_uri": "https://localhost:8080/"
        },
        "id": "JbL93drE2OnH",
        "outputId": "bd09570a-bbff-44c9-b64e-71efae0d7a80"
      },
      "source": [
        "data.FirmsCount[data.FirmsCount == 19].count()"
      ],
      "execution_count": null,
      "outputs": [
        {
          "output_type": "execute_result",
          "data": {
            "text/plain": [
              "2"
            ]
          },
          "metadata": {
            "tags": []
          },
          "execution_count": 18
        }
      ]
    },
    {
      "cell_type": "code",
      "metadata": {
        "colab": {
          "base_uri": "https://localhost:8080/"
        },
        "id": "Ki1x6FSv2V-2",
        "outputId": "ed0de290-7f74-46a4-c9a0-440b09b6d044"
      },
      "source": [
        "data.FirmsCount[data.FirmsCount == 185].count()"
      ],
      "execution_count": null,
      "outputs": [
        {
          "output_type": "execute_result",
          "data": {
            "text/plain": [
              "2"
            ]
          },
          "metadata": {
            "tags": []
          },
          "execution_count": 19
        }
      ]
    },
    {
      "cell_type": "code",
      "metadata": {
        "colab": {
          "base_uri": "https://localhost:8080/"
        },
        "id": "-H3qAw9V2oTH",
        "outputId": "2ef8ee4a-4a66-4f7f-b33d-66cfe5cc4172"
      },
      "source": [
        "data.FirmsCount[data.FirmsCount == 197].count()"
      ],
      "execution_count": null,
      "outputs": [
        {
          "output_type": "execute_result",
          "data": {
            "text/plain": [
              "2"
            ]
          },
          "metadata": {
            "tags": []
          },
          "execution_count": 20
        }
      ]
    },
    {
      "cell_type": "code",
      "metadata": {
        "colab": {
          "base_uri": "https://localhost:8080/"
        },
        "id": "-rOcePxA9F1x",
        "outputId": "6e2a14fc-ab42-47a7-d095-97c539454456"
      },
      "source": [
        "data.IsGeo[data.IsGeo == 0].count()"
      ],
      "execution_count": null,
      "outputs": [
        {
          "output_type": "execute_result",
          "data": {
            "text/plain": [
              "51"
            ]
          },
          "metadata": {
            "tags": []
          },
          "execution_count": 21
        }
      ]
    },
    {
      "cell_type": "markdown",
      "metadata": {
        "id": "wU-6Y2SbCYUq"
      },
      "source": [
        "Таким образом, значение моды можно посчитать только для последнего столбца."
      ]
    },
    {
      "cell_type": "markdown",
      "metadata": {
        "id": "fYrtALV5EZNb"
      },
      "source": [
        "Добавляем столбец со значениями моды в таблицу."
      ]
    },
    {
      "cell_type": "code",
      "metadata": {
        "colab": {
          "base_uri": "https://localhost:8080/"
        },
        "id": "GSO3mNthHn-l",
        "outputId": "5f6254d6-daf5-4bbc-88b1-964c242a2a5e"
      },
      "source": [
        "mode_list = []\n",
        "for i in range(0, 8):\n",
        "  mode_list.append('no')\n",
        "mode_list.append(0)\n",
        "mode_list"
      ],
      "execution_count": null,
      "outputs": [
        {
          "output_type": "execute_result",
          "data": {
            "text/plain": [
              "['no', 'no', 'no', 'no', 'no', 'no', 'no', 'no', 0]"
            ]
          },
          "metadata": {
            "tags": []
          },
          "execution_count": 22
        }
      ]
    },
    {
      "cell_type": "code",
      "metadata": {
        "id": "V2PnPKCt7MWQ",
        "colab": {
          "base_uri": "https://localhost:8080/",
          "height": 316
        },
        "outputId": "0d2f9194-a5ae-490d-e96f-680e7bbc5408"
      },
      "source": [
        "center_and_variability_measures['mode'] = mode_list\n",
        "center_and_variability_measures.index = data_columns\n",
        "center_and_variability_measures"
      ],
      "execution_count": null,
      "outputs": [
        {
          "output_type": "execute_result",
          "data": {
            "text/html": [
              "<div>\n",
              "<style scoped>\n",
              "    .dataframe tbody tr th:only-of-type {\n",
              "        vertical-align: middle;\n",
              "    }\n",
              "\n",
              "    .dataframe tbody tr th {\n",
              "        vertical-align: top;\n",
              "    }\n",
              "\n",
              "    .dataframe thead th {\n",
              "        text-align: right;\n",
              "    }\n",
              "</style>\n",
              "<table border=\"1\" class=\"dataframe\">\n",
              "  <thead>\n",
              "    <tr style=\"text-align: right;\">\n",
              "      <th></th>\n",
              "      <th>mean</th>\n",
              "      <th>median</th>\n",
              "      <th>mode</th>\n",
              "    </tr>\n",
              "  </thead>\n",
              "  <tbody>\n",
              "    <tr>\n",
              "      <th>AddressCount</th>\n",
              "      <td>1048.04</td>\n",
              "      <td>371.00</td>\n",
              "      <td>no</td>\n",
              "    </tr>\n",
              "    <tr>\n",
              "      <th>CallsCount</th>\n",
              "      <td>3648.68</td>\n",
              "      <td>931.00</td>\n",
              "      <td>no</td>\n",
              "    </tr>\n",
              "    <tr>\n",
              "      <th>ClicksCount</th>\n",
              "      <td>21826.01</td>\n",
              "      <td>6921.00</td>\n",
              "      <td>no</td>\n",
              "    </tr>\n",
              "    <tr>\n",
              "      <th>FirmsCount</th>\n",
              "      <td>305.09</td>\n",
              "      <td>185.00</td>\n",
              "      <td>no</td>\n",
              "    </tr>\n",
              "    <tr>\n",
              "      <th>GeoPart</th>\n",
              "      <td>0.34</td>\n",
              "      <td>0.32</td>\n",
              "      <td>no</td>\n",
              "    </tr>\n",
              "    <tr>\n",
              "      <th>MobilePart</th>\n",
              "      <td>0.45</td>\n",
              "      <td>0.46</td>\n",
              "      <td>no</td>\n",
              "    </tr>\n",
              "    <tr>\n",
              "      <th>UsersCount</th>\n",
              "      <td>9753.13</td>\n",
              "      <td>2934.00</td>\n",
              "      <td>no</td>\n",
              "    </tr>\n",
              "    <tr>\n",
              "      <th>Distance</th>\n",
              "      <td>2669.43</td>\n",
              "      <td>2586.50</td>\n",
              "      <td>no</td>\n",
              "    </tr>\n",
              "    <tr>\n",
              "      <th>IsGeo</th>\n",
              "      <td>0.35</td>\n",
              "      <td>0.00</td>\n",
              "      <td>0</td>\n",
              "    </tr>\n",
              "  </tbody>\n",
              "</table>\n",
              "</div>"
            ],
            "text/plain": [
              "                  mean   median mode\n",
              "AddressCount   1048.04   371.00   no\n",
              "CallsCount     3648.68   931.00   no\n",
              "ClicksCount   21826.01  6921.00   no\n",
              "FirmsCount      305.09   185.00   no\n",
              "GeoPart           0.34     0.32   no\n",
              "MobilePart        0.45     0.46   no\n",
              "UsersCount     9753.13  2934.00   no\n",
              "Distance       2669.43  2586.50   no\n",
              "IsGeo             0.35     0.00    0"
            ]
          },
          "metadata": {
            "tags": []
          },
          "execution_count": 23
        }
      ]
    },
    {
      "cell_type": "markdown",
      "metadata": {
        "id": "a_kI-79IVm47"
      },
      "source": [
        "Теперь рассчитаем меры изменчивости и добавим их в таблицу"
      ]
    },
    {
      "cell_type": "markdown",
      "metadata": {
        "id": "od3OmeDx0Ae0"
      },
      "source": [
        "Почитаем размах и добавим его в таблицу."
      ]
    },
    {
      "cell_type": "code",
      "metadata": {
        "id": "1VF4PdbSQV7y",
        "colab": {
          "base_uri": "https://localhost:8080/"
        },
        "outputId": "890ce47d-6303-4480-9ebf-33703fbf6058"
      },
      "source": [
        "sweep_list = []\n",
        "for i in columns:\n",
        "  sweep = round(data[i].max() - data[i].min(), 2)\n",
        "  sweep_list.append(sweep)\n",
        "sweep_list"
      ],
      "execution_count": null,
      "outputs": [
        {
          "output_type": "execute_result",
          "data": {
            "text/plain": [
              "[9543, 48477, 166897, 2365, 0.46, 0.65, 60970, 5577.42, 1]"
            ]
          },
          "metadata": {
            "tags": []
          },
          "execution_count": 24
        }
      ]
    },
    {
      "cell_type": "code",
      "metadata": {
        "id": "dSgfBm3sPkP6"
      },
      "source": [
        "center_and_variability_measures['sweep'] = sweep_list"
      ],
      "execution_count": null,
      "outputs": []
    },
    {
      "cell_type": "markdown",
      "metadata": {
        "id": "AwYW8mvO0Jbh"
      },
      "source": [
        "Посчитаем дисперсию и добавим ее в таблицу."
      ]
    },
    {
      "cell_type": "code",
      "metadata": {
        "id": "jxCBsRzj_95B"
      },
      "source": [
        "dispersion_list = []\n",
        "for i in columns:\n",
        "  dispersion = round(np.var(data[i]), 4)\n",
        "  dispersion_list.append(dispersion)"
      ],
      "execution_count": null,
      "outputs": []
    },
    {
      "cell_type": "code",
      "metadata": {
        "colab": {
          "base_uri": "https://localhost:8080/",
          "height": 316
        },
        "id": "UjbfXrSjFXDY",
        "outputId": "8a4d85df-e9f9-4005-bec5-b26540670948"
      },
      "source": [
        "center_and_variability_measures['dispersion'] = dispersion_list\n",
        "center_and_variability_measures"
      ],
      "execution_count": null,
      "outputs": [
        {
          "output_type": "execute_result",
          "data": {
            "text/html": [
              "<div>\n",
              "<style scoped>\n",
              "    .dataframe tbody tr th:only-of-type {\n",
              "        vertical-align: middle;\n",
              "    }\n",
              "\n",
              "    .dataframe tbody tr th {\n",
              "        vertical-align: top;\n",
              "    }\n",
              "\n",
              "    .dataframe thead th {\n",
              "        text-align: right;\n",
              "    }\n",
              "</style>\n",
              "<table border=\"1\" class=\"dataframe\">\n",
              "  <thead>\n",
              "    <tr style=\"text-align: right;\">\n",
              "      <th></th>\n",
              "      <th>mean</th>\n",
              "      <th>median</th>\n",
              "      <th>mode</th>\n",
              "      <th>sweep</th>\n",
              "      <th>dispersion</th>\n",
              "    </tr>\n",
              "  </thead>\n",
              "  <tbody>\n",
              "    <tr>\n",
              "      <th>AddressCount</th>\n",
              "      <td>1048.04</td>\n",
              "      <td>371.00</td>\n",
              "      <td>no</td>\n",
              "      <td>9543.00</td>\n",
              "      <td>2.662250e+06</td>\n",
              "    </tr>\n",
              "    <tr>\n",
              "      <th>CallsCount</th>\n",
              "      <td>3648.68</td>\n",
              "      <td>931.00</td>\n",
              "      <td>no</td>\n",
              "      <td>48477.00</td>\n",
              "      <td>6.516563e+07</td>\n",
              "    </tr>\n",
              "    <tr>\n",
              "      <th>ClicksCount</th>\n",
              "      <td>21826.01</td>\n",
              "      <td>6921.00</td>\n",
              "      <td>no</td>\n",
              "      <td>166897.00</td>\n",
              "      <td>1.041273e+09</td>\n",
              "    </tr>\n",
              "    <tr>\n",
              "      <th>FirmsCount</th>\n",
              "      <td>305.09</td>\n",
              "      <td>185.00</td>\n",
              "      <td>no</td>\n",
              "      <td>2365.00</td>\n",
              "      <td>1.441162e+05</td>\n",
              "    </tr>\n",
              "    <tr>\n",
              "      <th>GeoPart</th>\n",
              "      <td>0.34</td>\n",
              "      <td>0.32</td>\n",
              "      <td>no</td>\n",
              "      <td>0.46</td>\n",
              "      <td>1.060000e-02</td>\n",
              "    </tr>\n",
              "    <tr>\n",
              "      <th>MobilePart</th>\n",
              "      <td>0.45</td>\n",
              "      <td>0.46</td>\n",
              "      <td>no</td>\n",
              "      <td>0.65</td>\n",
              "      <td>2.110000e-02</td>\n",
              "    </tr>\n",
              "    <tr>\n",
              "      <th>UsersCount</th>\n",
              "      <td>9753.13</td>\n",
              "      <td>2934.00</td>\n",
              "      <td>no</td>\n",
              "      <td>60970.00</td>\n",
              "      <td>1.915143e+08</td>\n",
              "    </tr>\n",
              "    <tr>\n",
              "      <th>Distance</th>\n",
              "      <td>2669.43</td>\n",
              "      <td>2586.50</td>\n",
              "      <td>no</td>\n",
              "      <td>5577.42</td>\n",
              "      <td>2.012766e+06</td>\n",
              "    </tr>\n",
              "    <tr>\n",
              "      <th>IsGeo</th>\n",
              "      <td>0.35</td>\n",
              "      <td>0.00</td>\n",
              "      <td>0</td>\n",
              "      <td>1.00</td>\n",
              "      <td>2.288000e-01</td>\n",
              "    </tr>\n",
              "  </tbody>\n",
              "</table>\n",
              "</div>"
            ],
            "text/plain": [
              "                  mean   median mode      sweep    dispersion\n",
              "AddressCount   1048.04   371.00   no    9543.00  2.662250e+06\n",
              "CallsCount     3648.68   931.00   no   48477.00  6.516563e+07\n",
              "ClicksCount   21826.01  6921.00   no  166897.00  1.041273e+09\n",
              "FirmsCount      305.09   185.00   no    2365.00  1.441162e+05\n",
              "GeoPart           0.34     0.32   no       0.46  1.060000e-02\n",
              "MobilePart        0.45     0.46   no       0.65  2.110000e-02\n",
              "UsersCount     9753.13  2934.00   no   60970.00  1.915143e+08\n",
              "Distance       2669.43  2586.50   no    5577.42  2.012766e+06\n",
              "IsGeo             0.35     0.00    0       1.00  2.288000e-01"
            ]
          },
          "metadata": {
            "tags": []
          },
          "execution_count": 27
        }
      ]
    },
    {
      "cell_type": "markdown",
      "metadata": {
        "id": "3cLhZiPxN0rZ"
      },
      "source": [
        "Посчитаем среднеквадратическое отклонение и добавим в таблицу."
      ]
    },
    {
      "cell_type": "code",
      "metadata": {
        "id": "5Ou061gaDlV6",
        "colab": {
          "base_uri": "https://localhost:8080/"
        },
        "outputId": "bad19cb4-a2e1-4356-8369-42915d23e388"
      },
      "source": [
        "std_list = []\n",
        "for i in columns:\n",
        "  std = round(np.std(data[i]), 2)\n",
        "  std_list.append(std)\n",
        "std_list"
      ],
      "execution_count": null,
      "outputs": [
        {
          "output_type": "execute_result",
          "data": {
            "text/plain": [
              "[1631.64, 8072.52, 32268.77, 379.63, 0.1, 0.15, 13838.87, 1418.72, 0.48]"
            ]
          },
          "metadata": {
            "tags": []
          },
          "execution_count": 28
        }
      ]
    },
    {
      "cell_type": "code",
      "metadata": {
        "colab": {
          "base_uri": "https://localhost:8080/",
          "height": 316
        },
        "id": "CtfLWiymRdk_",
        "outputId": "d5aeeec6-7a0d-4146-96df-59e1809f998d"
      },
      "source": [
        "center_and_variability_measures['std'] = std_list\n",
        "center_and_variability_measures"
      ],
      "execution_count": null,
      "outputs": [
        {
          "output_type": "execute_result",
          "data": {
            "text/html": [
              "<div>\n",
              "<style scoped>\n",
              "    .dataframe tbody tr th:only-of-type {\n",
              "        vertical-align: middle;\n",
              "    }\n",
              "\n",
              "    .dataframe tbody tr th {\n",
              "        vertical-align: top;\n",
              "    }\n",
              "\n",
              "    .dataframe thead th {\n",
              "        text-align: right;\n",
              "    }\n",
              "</style>\n",
              "<table border=\"1\" class=\"dataframe\">\n",
              "  <thead>\n",
              "    <tr style=\"text-align: right;\">\n",
              "      <th></th>\n",
              "      <th>mean</th>\n",
              "      <th>median</th>\n",
              "      <th>mode</th>\n",
              "      <th>sweep</th>\n",
              "      <th>dispersion</th>\n",
              "      <th>std</th>\n",
              "    </tr>\n",
              "  </thead>\n",
              "  <tbody>\n",
              "    <tr>\n",
              "      <th>AddressCount</th>\n",
              "      <td>1048.04</td>\n",
              "      <td>371.00</td>\n",
              "      <td>no</td>\n",
              "      <td>9543.00</td>\n",
              "      <td>2.662250e+06</td>\n",
              "      <td>1631.64</td>\n",
              "    </tr>\n",
              "    <tr>\n",
              "      <th>CallsCount</th>\n",
              "      <td>3648.68</td>\n",
              "      <td>931.00</td>\n",
              "      <td>no</td>\n",
              "      <td>48477.00</td>\n",
              "      <td>6.516563e+07</td>\n",
              "      <td>8072.52</td>\n",
              "    </tr>\n",
              "    <tr>\n",
              "      <th>ClicksCount</th>\n",
              "      <td>21826.01</td>\n",
              "      <td>6921.00</td>\n",
              "      <td>no</td>\n",
              "      <td>166897.00</td>\n",
              "      <td>1.041273e+09</td>\n",
              "      <td>32268.77</td>\n",
              "    </tr>\n",
              "    <tr>\n",
              "      <th>FirmsCount</th>\n",
              "      <td>305.09</td>\n",
              "      <td>185.00</td>\n",
              "      <td>no</td>\n",
              "      <td>2365.00</td>\n",
              "      <td>1.441162e+05</td>\n",
              "      <td>379.63</td>\n",
              "    </tr>\n",
              "    <tr>\n",
              "      <th>GeoPart</th>\n",
              "      <td>0.34</td>\n",
              "      <td>0.32</td>\n",
              "      <td>no</td>\n",
              "      <td>0.46</td>\n",
              "      <td>1.060000e-02</td>\n",
              "      <td>0.10</td>\n",
              "    </tr>\n",
              "    <tr>\n",
              "      <th>MobilePart</th>\n",
              "      <td>0.45</td>\n",
              "      <td>0.46</td>\n",
              "      <td>no</td>\n",
              "      <td>0.65</td>\n",
              "      <td>2.110000e-02</td>\n",
              "      <td>0.15</td>\n",
              "    </tr>\n",
              "    <tr>\n",
              "      <th>UsersCount</th>\n",
              "      <td>9753.13</td>\n",
              "      <td>2934.00</td>\n",
              "      <td>no</td>\n",
              "      <td>60970.00</td>\n",
              "      <td>1.915143e+08</td>\n",
              "      <td>13838.87</td>\n",
              "    </tr>\n",
              "    <tr>\n",
              "      <th>Distance</th>\n",
              "      <td>2669.43</td>\n",
              "      <td>2586.50</td>\n",
              "      <td>no</td>\n",
              "      <td>5577.42</td>\n",
              "      <td>2.012766e+06</td>\n",
              "      <td>1418.72</td>\n",
              "    </tr>\n",
              "    <tr>\n",
              "      <th>IsGeo</th>\n",
              "      <td>0.35</td>\n",
              "      <td>0.00</td>\n",
              "      <td>0</td>\n",
              "      <td>1.00</td>\n",
              "      <td>2.288000e-01</td>\n",
              "      <td>0.48</td>\n",
              "    </tr>\n",
              "  </tbody>\n",
              "</table>\n",
              "</div>"
            ],
            "text/plain": [
              "                  mean   median mode      sweep    dispersion       std\n",
              "AddressCount   1048.04   371.00   no    9543.00  2.662250e+06   1631.64\n",
              "CallsCount     3648.68   931.00   no   48477.00  6.516563e+07   8072.52\n",
              "ClicksCount   21826.01  6921.00   no  166897.00  1.041273e+09  32268.77\n",
              "FirmsCount      305.09   185.00   no    2365.00  1.441162e+05    379.63\n",
              "GeoPart           0.34     0.32   no       0.46  1.060000e-02      0.10\n",
              "MobilePart        0.45     0.46   no       0.65  2.110000e-02      0.15\n",
              "UsersCount     9753.13  2934.00   no   60970.00  1.915143e+08  13838.87\n",
              "Distance       2669.43  2586.50   no    5577.42  2.012766e+06   1418.72\n",
              "IsGeo             0.35     0.00    0       1.00  2.288000e-01      0.48"
            ]
          },
          "metadata": {
            "tags": []
          },
          "execution_count": 29
        }
      ]
    },
    {
      "cell_type": "markdown",
      "metadata": {
        "id": "5W-81c2LS4yg"
      },
      "source": [
        "Рассчитаем медианное абсолютное отклонение и добавим в таблицу."
      ]
    },
    {
      "cell_type": "code",
      "metadata": {
        "colab": {
          "base_uri": "https://localhost:8080/"
        },
        "id": "ZFk5g_T_Ss5g",
        "outputId": "912aabd8-f0cc-402c-8e6b-b54d532368d1"
      },
      "source": [
        "mad_list = []\n",
        "for i in columns:\n",
        "  mad = round(sum([abs(data[i].median() - xi) for xi in data[i]])/len(data), 2)\n",
        "  mad_list.append(mad)\n",
        "mad_list"
      ],
      "execution_count": null,
      "outputs": [
        {
          "output_type": "execute_result",
          "data": {
            "text/plain": [
              "[928.53, 3255.15, 19292.3, 223.84, 0.08, 0.12, 8500.11, 1146.54, 0.35]"
            ]
          },
          "metadata": {
            "tags": []
          },
          "execution_count": 30
        }
      ]
    },
    {
      "cell_type": "code",
      "metadata": {
        "colab": {
          "base_uri": "https://localhost:8080/",
          "height": 316
        },
        "id": "obhea9nlX1dW",
        "outputId": "08fc679d-9bba-46b5-989f-6d864b59a413"
      },
      "source": [
        "center_and_variability_measures['mad'] = mad_list\n",
        "center_and_variability_measures"
      ],
      "execution_count": null,
      "outputs": [
        {
          "output_type": "execute_result",
          "data": {
            "text/html": [
              "<div>\n",
              "<style scoped>\n",
              "    .dataframe tbody tr th:only-of-type {\n",
              "        vertical-align: middle;\n",
              "    }\n",
              "\n",
              "    .dataframe tbody tr th {\n",
              "        vertical-align: top;\n",
              "    }\n",
              "\n",
              "    .dataframe thead th {\n",
              "        text-align: right;\n",
              "    }\n",
              "</style>\n",
              "<table border=\"1\" class=\"dataframe\">\n",
              "  <thead>\n",
              "    <tr style=\"text-align: right;\">\n",
              "      <th></th>\n",
              "      <th>mean</th>\n",
              "      <th>median</th>\n",
              "      <th>mode</th>\n",
              "      <th>sweep</th>\n",
              "      <th>dispersion</th>\n",
              "      <th>std</th>\n",
              "      <th>mad</th>\n",
              "    </tr>\n",
              "  </thead>\n",
              "  <tbody>\n",
              "    <tr>\n",
              "      <th>AddressCount</th>\n",
              "      <td>1048.04</td>\n",
              "      <td>371.00</td>\n",
              "      <td>no</td>\n",
              "      <td>9543.00</td>\n",
              "      <td>2.662250e+06</td>\n",
              "      <td>1631.64</td>\n",
              "      <td>928.53</td>\n",
              "    </tr>\n",
              "    <tr>\n",
              "      <th>CallsCount</th>\n",
              "      <td>3648.68</td>\n",
              "      <td>931.00</td>\n",
              "      <td>no</td>\n",
              "      <td>48477.00</td>\n",
              "      <td>6.516563e+07</td>\n",
              "      <td>8072.52</td>\n",
              "      <td>3255.15</td>\n",
              "    </tr>\n",
              "    <tr>\n",
              "      <th>ClicksCount</th>\n",
              "      <td>21826.01</td>\n",
              "      <td>6921.00</td>\n",
              "      <td>no</td>\n",
              "      <td>166897.00</td>\n",
              "      <td>1.041273e+09</td>\n",
              "      <td>32268.77</td>\n",
              "      <td>19292.30</td>\n",
              "    </tr>\n",
              "    <tr>\n",
              "      <th>FirmsCount</th>\n",
              "      <td>305.09</td>\n",
              "      <td>185.00</td>\n",
              "      <td>no</td>\n",
              "      <td>2365.00</td>\n",
              "      <td>1.441162e+05</td>\n",
              "      <td>379.63</td>\n",
              "      <td>223.84</td>\n",
              "    </tr>\n",
              "    <tr>\n",
              "      <th>GeoPart</th>\n",
              "      <td>0.34</td>\n",
              "      <td>0.32</td>\n",
              "      <td>no</td>\n",
              "      <td>0.46</td>\n",
              "      <td>1.060000e-02</td>\n",
              "      <td>0.10</td>\n",
              "      <td>0.08</td>\n",
              "    </tr>\n",
              "    <tr>\n",
              "      <th>MobilePart</th>\n",
              "      <td>0.45</td>\n",
              "      <td>0.46</td>\n",
              "      <td>no</td>\n",
              "      <td>0.65</td>\n",
              "      <td>2.110000e-02</td>\n",
              "      <td>0.15</td>\n",
              "      <td>0.12</td>\n",
              "    </tr>\n",
              "    <tr>\n",
              "      <th>UsersCount</th>\n",
              "      <td>9753.13</td>\n",
              "      <td>2934.00</td>\n",
              "      <td>no</td>\n",
              "      <td>60970.00</td>\n",
              "      <td>1.915143e+08</td>\n",
              "      <td>13838.87</td>\n",
              "      <td>8500.11</td>\n",
              "    </tr>\n",
              "    <tr>\n",
              "      <th>Distance</th>\n",
              "      <td>2669.43</td>\n",
              "      <td>2586.50</td>\n",
              "      <td>no</td>\n",
              "      <td>5577.42</td>\n",
              "      <td>2.012766e+06</td>\n",
              "      <td>1418.72</td>\n",
              "      <td>1146.54</td>\n",
              "    </tr>\n",
              "    <tr>\n",
              "      <th>IsGeo</th>\n",
              "      <td>0.35</td>\n",
              "      <td>0.00</td>\n",
              "      <td>0</td>\n",
              "      <td>1.00</td>\n",
              "      <td>2.288000e-01</td>\n",
              "      <td>0.48</td>\n",
              "      <td>0.35</td>\n",
              "    </tr>\n",
              "  </tbody>\n",
              "</table>\n",
              "</div>"
            ],
            "text/plain": [
              "                  mean   median mode  ...    dispersion       std       mad\n",
              "AddressCount   1048.04   371.00   no  ...  2.662250e+06   1631.64    928.53\n",
              "CallsCount     3648.68   931.00   no  ...  6.516563e+07   8072.52   3255.15\n",
              "ClicksCount   21826.01  6921.00   no  ...  1.041273e+09  32268.77  19292.30\n",
              "FirmsCount      305.09   185.00   no  ...  1.441162e+05    379.63    223.84\n",
              "GeoPart           0.34     0.32   no  ...  1.060000e-02      0.10      0.08\n",
              "MobilePart        0.45     0.46   no  ...  2.110000e-02      0.15      0.12\n",
              "UsersCount     9753.13  2934.00   no  ...  1.915143e+08  13838.87   8500.11\n",
              "Distance       2669.43  2586.50   no  ...  2.012766e+06   1418.72   1146.54\n",
              "IsGeo             0.35     0.00    0  ...  2.288000e-01      0.48      0.35\n",
              "\n",
              "[9 rows x 7 columns]"
            ]
          },
          "metadata": {
            "tags": []
          },
          "execution_count": 31
        }
      ]
    },
    {
      "cell_type": "markdown",
      "metadata": {
        "id": "qi-z3IVJYDMk"
      },
      "source": [
        "Рассчитаем последнюю меру изменчивости - межквартильный размах. "
      ]
    },
    {
      "cell_type": "code",
      "metadata": {
        "id": "-VUhH4-2y9Wl"
      },
      "source": [
        "bqs_list = []\n",
        "for i in columns:\n",
        "  bqs = round(data[i].quantile(0.75, interpolation='nearest') - data[i].quantile(0.25, interpolation='nearest'), 2)\n",
        "  bqs_list.append(bqs)"
      ],
      "execution_count": null,
      "outputs": []
    },
    {
      "cell_type": "code",
      "metadata": {
        "id": "X7zQHgqIKIi2"
      },
      "source": [
        "center_and_variability_measures['bqs'] = bqs_list"
      ],
      "execution_count": null,
      "outputs": []
    },
    {
      "cell_type": "markdown",
      "metadata": {
        "id": "e-mEx_WvKla3"
      },
      "source": [
        "Так как IsGeo содержит номинальные данные, все меры, кроме моды для него некорректны, поэтому заменим получившиеся значения."
      ]
    },
    {
      "cell_type": "code",
      "metadata": {
        "id": "I9-_bPYSS4aP"
      },
      "source": [
        "center_and_variability_measures.iloc[8, 0:2] = '-'\n",
        "center_and_variability_measures.iloc[8, 3:8] = '-'"
      ],
      "execution_count": null,
      "outputs": []
    },
    {
      "cell_type": "code",
      "metadata": {
        "colab": {
          "base_uri": "https://localhost:8080/",
          "height": 316
        },
        "id": "oh589Iy0Ta-a",
        "outputId": "ae30ec09-6349-46f1-c1ee-b240d0480116"
      },
      "source": [
        "center_and_variability_measures"
      ],
      "execution_count": null,
      "outputs": [
        {
          "output_type": "execute_result",
          "data": {
            "text/html": [
              "<div>\n",
              "<style scoped>\n",
              "    .dataframe tbody tr th:only-of-type {\n",
              "        vertical-align: middle;\n",
              "    }\n",
              "\n",
              "    .dataframe tbody tr th {\n",
              "        vertical-align: top;\n",
              "    }\n",
              "\n",
              "    .dataframe thead th {\n",
              "        text-align: right;\n",
              "    }\n",
              "</style>\n",
              "<table border=\"1\" class=\"dataframe\">\n",
              "  <thead>\n",
              "    <tr style=\"text-align: right;\">\n",
              "      <th></th>\n",
              "      <th>mean</th>\n",
              "      <th>median</th>\n",
              "      <th>mode</th>\n",
              "      <th>sweep</th>\n",
              "      <th>dispersion</th>\n",
              "      <th>std</th>\n",
              "      <th>mad</th>\n",
              "      <th>bqs</th>\n",
              "    </tr>\n",
              "  </thead>\n",
              "  <tbody>\n",
              "    <tr>\n",
              "      <th>AddressCount</th>\n",
              "      <td>1048.04</td>\n",
              "      <td>371</td>\n",
              "      <td>no</td>\n",
              "      <td>9543</td>\n",
              "      <td>2.66225e+06</td>\n",
              "      <td>1631.64</td>\n",
              "      <td>928.53</td>\n",
              "      <td>1086</td>\n",
              "    </tr>\n",
              "    <tr>\n",
              "      <th>CallsCount</th>\n",
              "      <td>3648.68</td>\n",
              "      <td>931</td>\n",
              "      <td>no</td>\n",
              "      <td>48477</td>\n",
              "      <td>6.51656e+07</td>\n",
              "      <td>8072.52</td>\n",
              "      <td>3255.15</td>\n",
              "      <td>2092</td>\n",
              "    </tr>\n",
              "    <tr>\n",
              "      <th>ClicksCount</th>\n",
              "      <td>21826</td>\n",
              "      <td>6921</td>\n",
              "      <td>no</td>\n",
              "      <td>166897</td>\n",
              "      <td>1.04127e+09</td>\n",
              "      <td>32268.8</td>\n",
              "      <td>19292.3</td>\n",
              "      <td>27691</td>\n",
              "    </tr>\n",
              "    <tr>\n",
              "      <th>FirmsCount</th>\n",
              "      <td>305.09</td>\n",
              "      <td>185</td>\n",
              "      <td>no</td>\n",
              "      <td>2365</td>\n",
              "      <td>144116</td>\n",
              "      <td>379.63</td>\n",
              "      <td>223.84</td>\n",
              "      <td>317</td>\n",
              "    </tr>\n",
              "    <tr>\n",
              "      <th>GeoPart</th>\n",
              "      <td>0.34</td>\n",
              "      <td>0.32</td>\n",
              "      <td>no</td>\n",
              "      <td>0.46</td>\n",
              "      <td>0.0106</td>\n",
              "      <td>0.1</td>\n",
              "      <td>0.08</td>\n",
              "      <td>0.13</td>\n",
              "    </tr>\n",
              "    <tr>\n",
              "      <th>MobilePart</th>\n",
              "      <td>0.45</td>\n",
              "      <td>0.46</td>\n",
              "      <td>no</td>\n",
              "      <td>0.65</td>\n",
              "      <td>0.0211</td>\n",
              "      <td>0.15</td>\n",
              "      <td>0.12</td>\n",
              "      <td>0.19</td>\n",
              "    </tr>\n",
              "    <tr>\n",
              "      <th>UsersCount</th>\n",
              "      <td>9753.13</td>\n",
              "      <td>2934</td>\n",
              "      <td>no</td>\n",
              "      <td>60970</td>\n",
              "      <td>1.91514e+08</td>\n",
              "      <td>13838.9</td>\n",
              "      <td>8500.11</td>\n",
              "      <td>11802</td>\n",
              "    </tr>\n",
              "    <tr>\n",
              "      <th>Distance</th>\n",
              "      <td>2669.43</td>\n",
              "      <td>2586.5</td>\n",
              "      <td>no</td>\n",
              "      <td>5577.42</td>\n",
              "      <td>2.01277e+06</td>\n",
              "      <td>1418.72</td>\n",
              "      <td>1146.54</td>\n",
              "      <td>1921.47</td>\n",
              "    </tr>\n",
              "    <tr>\n",
              "      <th>IsGeo</th>\n",
              "      <td>-</td>\n",
              "      <td>-</td>\n",
              "      <td>0</td>\n",
              "      <td>-</td>\n",
              "      <td>-</td>\n",
              "      <td>-</td>\n",
              "      <td>-</td>\n",
              "      <td>-</td>\n",
              "    </tr>\n",
              "  </tbody>\n",
              "</table>\n",
              "</div>"
            ],
            "text/plain": [
              "                 mean  median mode  ...      std      mad      bqs\n",
              "AddressCount  1048.04     371   no  ...  1631.64   928.53     1086\n",
              "CallsCount    3648.68     931   no  ...  8072.52  3255.15     2092\n",
              "ClicksCount     21826    6921   no  ...  32268.8  19292.3    27691\n",
              "FirmsCount     305.09     185   no  ...   379.63   223.84      317\n",
              "GeoPart          0.34    0.32   no  ...      0.1     0.08     0.13\n",
              "MobilePart       0.45    0.46   no  ...     0.15     0.12     0.19\n",
              "UsersCount    9753.13    2934   no  ...  13838.9  8500.11    11802\n",
              "Distance      2669.43  2586.5   no  ...  1418.72  1146.54  1921.47\n",
              "IsGeo               -       -    0  ...        -        -        -\n",
              "\n",
              "[9 rows x 8 columns]"
            ]
          },
          "metadata": {
            "tags": []
          },
          "execution_count": 35
        }
      ]
    },
    {
      "cell_type": "markdown",
      "metadata": {
        "id": "mQ3HMTOTVyox"
      },
      "source": [
        "Мы получили таблицу со всеми значениями меры и изменчивости.\n",
        "\n",
        "\n",
        "\n"
      ]
    },
    {
      "cell_type": "markdown",
      "metadata": {
        "id": "jPgZT9YtPCL3"
      },
      "source": [
        "**2. Выбраем количественный признак и характеризуем его распределение при помощи соответствующих описательных статистик и графиков**"
      ]
    },
    {
      "cell_type": "markdown",
      "metadata": {
        "id": "tKYkdQhOSgxs"
      },
      "source": [
        "В качестве количественного признака выбрала часть мобильного трафика - MobilePart.\n",
        "\n",
        "Построим гистограмму распределения и ящик с усами."
      ]
    },
    {
      "cell_type": "code",
      "metadata": {
        "colab": {
          "base_uri": "https://localhost:8080/",
          "height": 281
        },
        "id": "OLfDJ6Tqmtc7",
        "outputId": "772bebee-5d2f-4900-c57c-9c958021af19"
      },
      "source": [
        "data[\"MobilePart\"].hist()"
      ],
      "execution_count": null,
      "outputs": [
        {
          "output_type": "execute_result",
          "data": {
            "text/plain": [
              "<matplotlib.axes._subplots.AxesSubplot at 0x7f9dfab05780>"
            ]
          },
          "metadata": {
            "tags": []
          },
          "execution_count": 36
        },
        {
          "output_type": "display_data",
          "data": {
            "image/png": "[encoded data removed]",
            "text/plain": [
              "<Figure size 432x288 with 1 Axes>"
            ]
          },
          "metadata": {
            "tags": [],
            "needs_background": "light"
          }
        }
      ]
    },
    {
      "cell_type": "code",
      "metadata": {
        "colab": {
          "base_uri": "https://localhost:8080/",
          "height": 401
        },
        "id": "0vXwzxxhoTaX",
        "outputId": "9911e44b-4b1a-4b52-ae3e-dcb00b9d5379"
      },
      "source": [
        "plt.boxplot(x=data[\"MobilePart\"])"
      ],
      "execution_count": null,
      "outputs": [
        {
          "output_type": "execute_result",
          "data": {
            "text/plain": [
              "{'boxes': [<matplotlib.lines.Line2D at 0x7f9dfa5dfdd8>],\n",
              " 'caps': [<matplotlib.lines.Line2D at 0x7f9dfa570828>,\n",
              "  <matplotlib.lines.Line2D at 0x7f9dfa570ba8>],\n",
              " 'fliers': [<matplotlib.lines.Line2D at 0x7f9dfa5792e8>],\n",
              " 'means': [],\n",
              " 'medians': [<matplotlib.lines.Line2D at 0x7f9dfa570f28>],\n",
              " 'whiskers': [<matplotlib.lines.Line2D at 0x7f9dfa570128>,\n",
              "  <matplotlib.lines.Line2D at 0x7f9dfa5704a8>]}"
            ]
          },
          "metadata": {
            "tags": []
          },
          "execution_count": 37
        },
        {
          "output_type": "display_data",
          "data": {
            "image/png": "[encoded data removed]",
            "text/plain": [
              "<Figure size 432x288 with 1 Axes>"
            ]
          },
          "metadata": {
            "tags": [],
            "needs_background": "light"
          }
        }
      ]
    },
    {
      "cell_type": "markdown",
      "metadata": {
        "id": "GbSN_fNznTSk"
      },
      "source": [
        "**Выводы**\n",
        "\n",
        "Распределение признака близко к нормальному, критичных аномалий либо выборосов нет, поэтому  в качесвте описательных статистик мы можем использовать среднее, разброс и среднеквадратичное отклонение. "
      ]
    },
    {
      "cell_type": "markdown",
      "metadata": {
        "id": "JDHTIoDgrGF4"
      },
      "source": [
        "**3. Сравниваем геозависимые и геонезависимые сферы (экспертная разметка, переменная IsGeo) по выбранному признаку**"
      ]
    },
    {
      "cell_type": "code",
      "metadata": {
        "id": "00iSWVf6LQHn"
      },
      "source": [
        "IsGeo_0 = data[data.IsGeo == 0]"
      ],
      "execution_count": null,
      "outputs": []
    },
    {
      "cell_type": "code",
      "metadata": {
        "id": "xp000f1UnPgV"
      },
      "source": [
        "IsGeo_1 = data[data.IsGeo == 1]"
      ],
      "execution_count": null,
      "outputs": []
    },
    {
      "cell_type": "code",
      "metadata": {
        "colab": {
          "base_uri": "https://localhost:8080/",
          "height": 350
        },
        "id": "EOB0ZKe9vfaz",
        "outputId": "18bd5fc4-d225-4531-da4e-31e352057f66"
      },
      "source": [
        "sns.distplot(a=IsGeo_0['FirmsCount'], label=\"0\", kde=False)\n",
        "sns.distplot(a=IsGeo_1['FirmsCount'], label=\"1\", kde=False)\n",
        "plt.legend()"
      ],
      "execution_count": 50,
      "outputs": [
        {
          "output_type": "stream",
          "text": [
            "/usr/local/lib/python3.6/dist-packages/seaborn/distributions.py:2551: FutureWarning: `distplot` is a deprecated function and will be removed in a future version. Please adapt your code to use either `displot` (a figure-level function with similar flexibility) or `histplot` (an axes-level function for histograms).\n",
            "  warnings.warn(msg, FutureWarning)\n"
          ],
          "name": "stderr"
        },
        {
          "output_type": "execute_result",
          "data": {
            "text/plain": [
              "<matplotlib.legend.Legend at 0x7f9dfa1f6ef0>"
            ]
          },
          "metadata": {
            "tags": []
          },
          "execution_count": 50
        },
        {
          "output_type": "display_data",
          "data": {
            "image/png": "[encoded data removed]",
            "text/plain": [
              "<Figure size 432x288 with 1 Axes>"
            ]
          },
          "metadata": {
            "tags": [],
            "needs_background": "light"
          }
        }
      ]
    },
    {
      "cell_type": "code",
      "metadata": {
        "colab": {
          "base_uri": "https://localhost:8080/",
          "height": 296
        },
        "id": "A9NpwgeMWv_w",
        "outputId": "db39001d-666c-4520-db3a-686fc4b0d959"
      },
      "source": [
        "#sns.boxplot(data=df[df.Platform.isin(top_platforms)])\n",
        "sns.boxplot(x='IsGeo', y='FirmsCount', data=data)\n"
      ],
      "execution_count": 61,
      "outputs": [
        {
          "output_type": "execute_result",
          "data": {
            "text/plain": [
              "<matplotlib.axes._subplots.AxesSubplot at 0x7f9df1ca5b70>"
            ]
          },
          "metadata": {
            "tags": []
          },
          "execution_count": 61
        },
        {
          "output_type": "display_data",
          "data": {
            "image/png": "[encoded data removed]",
            "text/plain": [
              "<Figure size 432x288 with 1 Axes>"
            ]
          },
          "metadata": {
            "tags": [],
            "needs_background": "light"
          }
        }
      ]
    },
    {
      "cell_type": "code",
      "metadata": {
        "colab": {
          "base_uri": "https://localhost:8080/"
        },
        "id": "hmjYWzzwNNFK",
        "outputId": "fdb9cf02-a9de-44e8-8778-3fb3a4e0ca66"
      },
      "source": [
        "IsGeo_0['FirmsCount'].count()"
      ],
      "execution_count": 55,
      "outputs": [
        {
          "output_type": "execute_result",
          "data": {
            "text/plain": [
              "51"
            ]
          },
          "metadata": {
            "tags": []
          },
          "execution_count": 55
        }
      ]
    },
    {
      "cell_type": "code",
      "metadata": {
        "colab": {
          "base_uri": "https://localhost:8080/"
        },
        "id": "PWXRfW5EvlOP",
        "outputId": "f25ad10a-4338-4790-935e-0dd55fadc907"
      },
      "source": [
        "IsGeo_0['FirmsCount'].sum()"
      ],
      "execution_count": 54,
      "outputs": [
        {
          "output_type": "execute_result",
          "data": {
            "text/plain": [
              "10152"
            ]
          },
          "metadata": {
            "tags": []
          },
          "execution_count": 54
        }
      ]
    },
    {
      "cell_type": "code",
      "metadata": {
        "colab": {
          "base_uri": "https://localhost:8080/"
        },
        "id": "pOCGk9z5OI5S",
        "outputId": "c90a3dc2-b0b6-4320-ab92-be07d2d5d429"
      },
      "source": [
        "IsGeo_1['FirmsCount'].count()"
      ],
      "execution_count": 56,
      "outputs": [
        {
          "output_type": "execute_result",
          "data": {
            "text/plain": [
              "28"
            ]
          },
          "metadata": {
            "tags": []
          },
          "execution_count": 56
        }
      ]
    },
    {
      "cell_type": "code",
      "metadata": {
        "colab": {
          "base_uri": "https://localhost:8080/"
        },
        "id": "7NzbJExtxFoK",
        "outputId": "cb04677c-9ea3-4ef2-badc-99939f4b319f"
      },
      "source": [
        "IsGeo_1['FirmsCount'].sum()"
      ],
      "execution_count": 53,
      "outputs": [
        {
          "output_type": "execute_result",
          "data": {
            "text/plain": [
              "13950"
            ]
          },
          "metadata": {
            "tags": []
          },
          "execution_count": 53
        }
      ]
    },
    {
      "cell_type": "markdown",
      "metadata": {
        "id": "uAXJQsHfEGpJ"
      },
      "source": [
        "**Выводы:**\n",
        "Распределения признака количество фирм отличются по геозависимой и геонезависимой сфер, отличаются разброс, среднее, формы распределений.\n",
        "Оба распределения далеки от нормального, и в обоих присутсвуют выбросы.\n",
        "\n",
        "Интересная особенность - для геонезависимых компаний больше разных сфер, но общее количество компаний в ней меньше, чем в геозависимой."
      ]
    }
  ]
}
